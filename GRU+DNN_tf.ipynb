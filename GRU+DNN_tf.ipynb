{
 "cells": [
  {
   "cell_type": "code",
   "execution_count": 1,
   "metadata": {},
   "outputs": [
    {
     "name": "stdout",
     "output_type": "stream",
     "text": [
      "Num GPUs Available:  1\n"
     ]
    }
   ],
   "source": [
    "import tensorflow as tf\n",
    "\n",
    "print(\"Num GPUs Available: \", len(tf.config.list_physical_devices('GPU')))"
   ]
  },
  {
   "cell_type": "code",
   "execution_count": 2,
   "metadata": {},
   "outputs": [
    {
     "name": "stdout",
     "output_type": "stream",
     "text": [
      "WARNING:tensorflow:From C:\\Users\\T2330114\\AppData\\Local\\Temp\\ipykernel_18496\\337460670.py:1: is_gpu_available (from tensorflow.python.framework.test_util) is deprecated and will be removed in a future version.\n",
      "Instructions for updating:\n",
      "Use `tf.config.list_physical_devices('GPU')` instead.\n"
     ]
    },
    {
     "data": {
      "text/plain": [
       "True"
      ]
     },
     "execution_count": 2,
     "metadata": {},
     "output_type": "execute_result"
    }
   ],
   "source": [
    "tf.test.is_gpu_available()"
   ]
  },
  {
   "cell_type": "code",
   "execution_count": 3,
   "metadata": {},
   "outputs": [],
   "source": [
    "import pandas as pd\n",
    "from sklearn.model_selection import train_test_split\n",
    "from sklearn.metrics import accuracy_score, precision_score, recall_score\n",
    "from tensorflow.keras.preprocessing.text import Tokenizer\n",
    "from tensorflow.keras.preprocessing.sequence import pad_sequences\n",
    "from tensorflow.keras.models import Sequential\n",
    "from tensorflow.keras.layers import Embedding, LSTM, Dense, SpatialDropout1D, Dropout, Flatten ,GlobalMaxPooling1D,GRU\n",
    "\n",
    "\n",
    "# Load the dataset\n",
    "file_path = 'Truth_Seeker_Model_Dataset.csv'\n",
    "file_path2 = 'Features_For_Traditional_ML_Techniques.csv'\n",
    "file_path3 = 'Downloads/Truth_Seeker_Model_Dataset_With_TimeStamps 1.xlsx'\n",
    "df = pd.read_csv(file_path)\n",
    "\n",
    "df2 = pd.read_csv(file_path2)\n",
    "\n",
    "df3 = pd.read_excel(file_path3)\n",
    "\n",
    "df = df.drop(columns=[\"Unnamed: 0\"])\n",
    "\n",
    "df2 = df2.drop(columns=[\"Unnamed: 0\"])\n",
    "\n",
    "df3 = df3.drop(columns=[\"Unnamed: 0\"])\n",
    "\n",
    "df = df.sample(frac=1, random_state=42).reset_index(drop=True)\n",
    "\n",
    "#df2 = df2.sample(frac=1, random_state=42).reset_index(drop=True)\n",
    "\n",
    "#df3 = df3.sample(frac=1, random_state=42).reset_index(drop=True)\n"
   ]
  },
  {
   "cell_type": "code",
   "execution_count": 4,
   "metadata": {},
   "outputs": [],
   "source": [
    "\n",
    "\n",
    "\n",
    "# # this will download the BERT Tokenizer\n",
    "# bert_tokenizer = BertTokenizer.from_pretrained(\"bert-base-uncased\")  \n",
    "# # this will download the BERT Trained Model\n",
    "# # output_hidden_states=False, as we are training & not interested in output state.\n",
    "# config = BertConfig.from_pretrained(\"bert-base-uncased\",output_hidden_states=False) # dropout=0.2, attention_dropout=0.2\n",
    "# bert_model = TFBertModel.from_pretrained('bert-base-uncased', config=config)\n"
   ]
  },
  {
   "cell_type": "code",
   "execution_count": 5,
   "metadata": {},
   "outputs": [],
   "source": [
    "\n",
    "\n",
    "# import re\n",
    "# from tqdm import tqdm\n",
    "\n",
    "\n",
    "# def clean_text(temp):\n",
    "#     temp=re.sub(\"@\\S+\", \" \", temp)\n",
    "#     temp=re.sub(\"https*\\S+\", \" \", temp)\n",
    "#     temp=re.sub(\"#\\S+\", \" \", temp)\n",
    "#     temp=re.sub(\"\\'\\w+\", '', temp)\n",
    "#     temp=re.sub(r'\\w*\\d+\\w*', '', temp)\n",
    "#     temp=re.sub('\\s{2,}', \" \", temp)\n",
    "#     return temp.strip()\n",
    "\n",
    "# shuffled_df['tweet_clean'] = shuffled_df['tweet'].apply(clean_text)\n",
    "# sentences = shuffled_df['tweet_clean'] + shuffled_df['statement'] + shuffled_df['author'] + shuffled_df['manual_keywords'] + shuffled_df['5_label_majority_answer'] + shuffled_df['3_label_majority_answer'] "
   ]
  },
  {
   "cell_type": "code",
   "execution_count": 6,
   "metadata": {},
   "outputs": [],
   "source": [
    "\n",
    "\n",
    "# import numpy as np\n",
    "\n",
    "\n",
    "# input_ids=[]\n",
    "# attention_masks=[]\n",
    "\n",
    "# for sent in tqdm(sentences):\n",
    "#     bert_inp=bert_tokenizer.encode_plus(sent,add_special_tokens = True,max_length =128,pad_to_max_length = True,return_attention_mask = True)\n",
    "#     input_ids.append(bert_inp['input_ids'])\n",
    "#     attention_masks.append(bert_inp['attention_mask'])\n",
    "\n",
    "# input_ids=np.asarray(input_ids)\n",
    "# attention_masks=np.array(attention_masks)\n",
    "# labels = np.array(shuffled_df['BinaryNumTarget'])\n"
   ]
  },
  {
   "cell_type": "code",
   "execution_count": 7,
   "metadata": {},
   "outputs": [],
   "source": [
    "\n",
    "\n",
    "#features = np.concatenate((input_ids, attention_masks), axis=-1)"
   ]
  },
  {
   "cell_type": "code",
   "execution_count": 8,
   "metadata": {},
   "outputs": [],
   "source": [
    "# # Preprocess the text data\n",
    "statements = df['statement'].astype(str).values\n",
    "tweets = df['tweet'].astype(str).values\n",
    "author = df['author'].astype(str).values\n",
    "# fivelabel = batch1['5_label_majority_answer'].astype(str).values\n",
    "# threelabel = batch1['3_label_majority_answer'].astype(str).values\n",
    "labels = df['BinaryNumTarget'].astype(int).values\n",
    "\n",
    "# # Combine statements and tweets into one feature\n",
    "# #combined_text = [s + \" \" + t for s, t in zip(statements, tweets)]\n",
    "\n",
    "combined_text = [\n",
    "     f\"{s} {t} [SEP] Author: {a}\"\n",
    "     for s, t, a in zip(statements, tweets, author)\n",
    " ]\n"
   ]
  },
  {
   "cell_type": "code",
   "execution_count": 9,
   "metadata": {},
   "outputs": [],
   "source": [
    "# Tokenize the text data\n",
    "max_num_words = 500\n",
    "max_sequence_length = 28\n",
    "\n",
    "tokenizer = Tokenizer(num_words=max_num_words, oov_token=\"<OOV>\")\n",
    "tokenizer.fit_on_texts(combined_text)\n",
    "sequences = tokenizer.texts_to_sequences(combined_text)\n",
    "word_index = tokenizer.word_index\n",
    "\n",
    "#Pad sequences\n",
    "padded_sequences = pad_sequences(sequences, maxlen=max_sequence_length)"
   ]
  },
  {
   "cell_type": "code",
   "execution_count": 10,
   "metadata": {},
   "outputs": [],
   "source": [
    "# from sklearn.preprocessing import MinMaxScaler\n",
    "\n",
    "# # Normalize numerical user features\n",
    "# scaler = MinMaxScaler()\n",
    "# user_features_normalized = scaler.fit_transform(shuffled_df[['hashtags', 'URLs', 'PERSON_percentage', \n",
    "#                                                       'LANGUAGE_percentage', 'pronouns', 'exclamation','past_verbs', 'adjectives','capitals', 'digits',\n",
    "#                                                         'adpositions','present_verbs','ampersand','MONEY_percentage','PERCENT_percentage',\n",
    "#                                                          'QUANTITY_percentage','LOC_percentage','WORK_OF_ART_percentage','NORP_percentage','EVENT_percentage',\n",
    "#                                                         'unique_count','CARDINAL_percentage','LAW_percentage','listed_count','followers_count',\n",
    "#                                                          'favourites_count','normalize_influence','favourites']])\n",
    "\n",
    "# # Convert normalized features to TensorFlow tensors\n",
    "# user_features_tensor = tf.convert_to_tensor(user_features_normalized, dtype=tf.float32)\n",
    "\n",
    "# # Combine textual and numerical features\n",
    "# combined_features = tf.concat([features, user_features_tensor], axis=1)\n"
   ]
  },
  {
   "cell_type": "code",
   "execution_count": 11,
   "metadata": {},
   "outputs": [],
   "source": [
    "#import numpy as np\n",
    "\n",
    "# # Ensure combined_features and labels are NumPy arrays\n",
    "#combined_features_np = np.array(combined_features)  # Convert to NumPy\n"
   ]
  },
  {
   "cell_type": "code",
   "execution_count": 12,
   "metadata": {
    "colab": {
     "base_uri": "https://localhost:8080/"
    },
    "id": "5gLEXqEiYh2B",
    "outputId": "676f841c-1e62-4420-bfe8-e897ea7ff585"
   },
   "outputs": [
    {
     "name": "stdout",
     "output_type": "stream",
     "text": [
      "Model: \"sequential\"\n",
      "_________________________________________________________________\n",
      " Layer (type)                Output Shape              Param #   \n",
      "=================================================================\n",
      " embedding (Embedding)       (None, 28, 16)            8000      \n",
      "                                                                 \n",
      " spatial_dropout1d (SpatialD  (None, 28, 16)           0         \n",
      " ropout1D)                                                       \n",
      "                                                                 \n",
      " gru (GRU)                   (None, 28, 16)            1632      \n",
      "                                                                 \n",
      " global_max_pooling1d (Globa  (None, 16)               0         \n",
      " lMaxPooling1D)                                                  \n",
      "                                                                 \n",
      " dense (Dense)               (None, 16)                272       \n",
      "                                                                 \n",
      " dropout (Dropout)           (None, 16)                0         \n",
      "                                                                 \n",
      " dense_1 (Dense)             (None, 1)                 17        \n",
      "                                                                 \n",
      "=================================================================\n",
      "Total params: 9,921\n",
      "Trainable params: 9,921\n",
      "Non-trainable params: 0\n",
      "_________________________________________________________________\n",
      "Epoch 1/10\n",
      "3355/3355 [==============================] - 16s 4ms/step - loss: 0.2971 - accuracy: 0.8808 - val_loss: 0.2342 - val_accuracy: 0.9048\n",
      "Epoch 2/10\n",
      "3355/3355 [==============================] - 13s 4ms/step - loss: 0.2387 - accuracy: 0.9064 - val_loss: 0.2192 - val_accuracy: 0.9130\n",
      "Epoch 3/10\n",
      "3355/3355 [==============================] - 13s 4ms/step - loss: 0.2260 - accuracy: 0.9115 - val_loss: 0.2084 - val_accuracy: 0.9168\n",
      "Epoch 4/10\n",
      "3355/3355 [==============================] - 13s 4ms/step - loss: 0.2185 - accuracy: 0.9136 - val_loss: 0.2023 - val_accuracy: 0.9172\n",
      "Epoch 5/10\n",
      "3355/3355 [==============================] - 13s 4ms/step - loss: 0.2127 - accuracy: 0.9157 - val_loss: 0.1974 - val_accuracy: 0.9206\n",
      "Epoch 6/10\n",
      "3355/3355 [==============================] - 13s 4ms/step - loss: 0.2065 - accuracy: 0.9180 - val_loss: 0.1927 - val_accuracy: 0.9210\n",
      "Epoch 7/10\n",
      "3355/3355 [==============================] - 13s 4ms/step - loss: 0.2024 - accuracy: 0.9198 - val_loss: 0.1911 - val_accuracy: 0.9227\n",
      "Epoch 8/10\n",
      "3355/3355 [==============================] - 13s 4ms/step - loss: 0.1986 - accuracy: 0.9209 - val_loss: 0.1924 - val_accuracy: 0.9220\n",
      "Epoch 9/10\n",
      "3355/3355 [==============================] - 13s 4ms/step - loss: 0.1964 - accuracy: 0.9219 - val_loss: 0.1846 - val_accuracy: 0.9256\n",
      "Epoch 10/10\n",
      "3355/3355 [==============================] - 13s 4ms/step - loss: 0.1921 - accuracy: 0.9237 - val_loss: 0.1860 - val_accuracy: 0.9256\n",
      "839/839 [==============================] - 1s 1ms/step\n",
      "Test Accuracy: 0.9255961251862891\n",
      "Test Precision: 0.9206019347903978\n",
      "Test Recall: 0.9352795573675015\n"
     ]
    }
   ],
   "source": [
    "\n",
    "\n",
    "\n",
    "\n",
    "# Split the data into training and testing sets\n",
    "X_train, X_test, y_train, y_test = train_test_split(padded_sequences, labels, test_size=0.2, random_state=42)\n",
    "\n",
    "\n",
    "# Tokenize and pad the input data\n",
    "# X_train_padded = pad_sequences(X_train, maxlen=max_sequence_length, padding='post', truncating='post')\n",
    "# X_test_padded = pad_sequences(X_test, maxlen=max_sequence_length, padding='post', truncating='post')\n",
    "\n",
    "# Build and compile the hybrid model\n",
    "embedding_dim = 16\n",
    "\n",
    "model = Sequential()\n",
    "model.add(Embedding(input_dim=max_num_words, output_dim=embedding_dim, input_length=max_sequence_length))\n",
    "model.add(SpatialDropout1D(0.1))\n",
    "model.add(GRU(16, return_sequences=True, dropout=0.2, recurrent_dropout=0))\n",
    "model.add(GlobalMaxPooling1D())\n",
    "model.add(Dense(16, activation='relu'))\n",
    "model.add(Dropout(0.2))\n",
    "model.add(Dense(1, activation='sigmoid'))\n",
    "\n",
    "model.compile(loss='binary_crossentropy', optimizer='adam', metrics=['accuracy'])\n",
    "\n",
    "# Summary of the model\n",
    "model.summary()\n",
    "\n",
    "# Train the model\n",
    "batch_size = 32\n",
    "epochs = 10\n",
    "\n",
    "\n",
    "\n",
    "#history = model.fit(X_train, y_train, epochs=epochs, batch_size=batch_size, validation_data=(X_test, y_test), verbose=2)\n",
    "\n",
    "history = model.fit(\n",
    "    X_train, y_train,\n",
    "    epochs=epochs,\n",
    "    batch_size=batch_size,\n",
    "    validation_data=(X_test, y_test),\n",
    "    \n",
    ")\n",
    "\n",
    "# Predict on the test set\n",
    "y_pred_prob = model.predict(X_test)\n",
    "y_pred = (y_pred_prob > 0.5).astype(int)\n",
    "\n",
    "# Calculate accuracy, precision, and recall\n",
    "accuracy = accuracy_score(y_test, y_pred)\n",
    "precision = precision_score(y_test, y_pred)\n",
    "recall = recall_score(y_test, y_pred)\n",
    "\n",
    "print(f\"Test Accuracy: {accuracy}\")\n",
    "print(f\"Test Precision: {precision}\")\n",
    "print(f\"Test Recall: {recall}\")\n"
   ]
  },
  {
   "cell_type": "code",
   "execution_count": null,
   "metadata": {},
   "outputs": [],
   "source": [
    "\n",
    "\n"
   ]
  }
 ],
 "metadata": {
  "colab": {
   "provenance": []
  },
  "kernelspec": {
   "display_name": "Python 3 (ipykernel)",
   "language": "python",
   "name": "python3"
  },
  "language_info": {
   "codemirror_mode": {
    "name": "ipython",
    "version": 3
   },
   "file_extension": ".py",
   "mimetype": "text/x-python",
   "name": "python",
   "nbconvert_exporter": "python",
   "pygments_lexer": "ipython3",
   "version": "3.10.16"
  }
 },
 "nbformat": 4,
 "nbformat_minor": 4
}
