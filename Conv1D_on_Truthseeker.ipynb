{
  "nbformat": 4,
  "nbformat_minor": 0,
  "metadata": {
    "colab": {
      "provenance": []
    },
    "kernelspec": {
      "name": "python3",
      "display_name": "Python 3"
    },
    "language_info": {
      "name": "python"
    }
  },
  "cells": [
    {
      "cell_type": "code",
      "source": [
        "\n",
        "\n",
        "import pandas as pd\n",
        "import numpy as np\n",
        "from tensorflow.keras.preprocessing.text import Tokenizer\n",
        "from tensorflow.keras.preprocessing.sequence import pad_sequences\n",
        "from sklearn.metrics import accuracy_score, precision_score, recall_score\n",
        "from tensorflow.keras.models import Sequential\n",
        "from tensorflow.keras.layers import Embedding, Conv1D, GlobalMaxPooling1D, Dense, Dropout\n",
        "from sklearn.model_selection import train_test_split\n",
        "\n",
        "\n",
        "\n",
        "\n",
        "# Load the dataset\n",
        "file_path = '/content/Truth_Seeker_Model_Dataset.csv'\n",
        "dataset = pd.read_csv(file_path)\n",
        "\n",
        "# Preprocess the text data\n",
        "statements = dataset['statement'].astype(str).values\n",
        "tweets = dataset['tweet'].astype(str).values\n",
        "labels = dataset['BinaryNumTarget'].astype(int).values\n",
        "\n",
        "# Combine statements and tweets into one feature\n",
        "combined_text = [s + \" \" + t for s, t in zip(statements, tweets)]\n",
        "\n",
        "\n",
        "vocab_size = 20000\n",
        "embedding_dim = 100\n",
        "max_length = 500\n",
        "trunc_type = 'post'\n",
        "padding_type = 'post'\n",
        "oov_tok = \"<OOV>\"\n",
        "\n",
        "# Tokenizer and padding\n",
        "tokenizer = Tokenizer(num_words=vocab_size, oov_token=oov_tok)\n",
        "tokenizer.fit_on_texts(combined_text)\n",
        "sequences = tokenizer.texts_to_sequences(combined_text)\n",
        "padded_sequences = pad_sequences(sequences, maxlen=max_length, padding=padding_type, truncating=trunc_type)\n",
        "\n",
        "# Split the data\n",
        "train_texts, test_texts, train_labels, test_labels = train_test_split(padded_sequences, labels, test_size=0.2, random_state=42)\n",
        "\n",
        "# Model definition\n",
        "model = Sequential([\n",
        "    Embedding(vocab_size, embedding_dim, input_length=max_length),\n",
        "    Conv1D(256, 5, activation='relu'),\n",
        "    GlobalMaxPooling1D(),\n",
        "    Dense(128, activation='relu'),\n",
        "    Dropout(0.5),\n",
        "    Dense(1, activation='sigmoid')\n",
        "])\n",
        "\n",
        "model.compile(optimizer='adam', loss='binary_crossentropy', metrics=['accuracy'])\n",
        "model.summary()\n",
        "\n",
        "# Train the model\n",
        "history = model.fit(train_texts, train_labels, epochs=10, validation_split=0.2, batch_size=32)\n",
        "\n",
        "\n",
        "\n",
        "\n",
        "# Make predictions\n",
        "\n",
        "y_pred_prob = model.predict(padded_sequences)\n",
        "y_pred = (y_pred_prob > 0.5).astype(int)\n",
        "\n",
        "\n",
        "accuracy = accuracy_score(labels, y_pred)\n",
        "precision = precision_score(labels, y_pred)\n",
        "recall = recall_score(labels, y_pred)\n",
        "\n",
        "\n",
        "print(f\"Test Accuracy: {accuracy:.4f}\")\n",
        "print(f\"Test Precision: {precision:.4f}\")\n",
        "print(f\"Test Recall: {recall:.4f}\")\n"
      ],
      "metadata": {
        "colab": {
          "base_uri": "https://localhost:8080/"
        },
        "id": "ar22V_N9UPqT",
        "outputId": "f9a71d64-b9b3-472c-b75c-76978e67d569"
      },
      "execution_count": null,
      "outputs": [
        {
          "output_type": "stream",
          "name": "stdout",
          "text": [
            "Model: \"sequential_1\"\n",
            "_________________________________________________________________\n",
            " Layer (type)                Output Shape              Param #   \n",
            "=================================================================\n",
            " embedding_1 (Embedding)     (None, 500, 100)          2000000   \n",
            "                                                                 \n",
            " conv1d_1 (Conv1D)           (None, 496, 256)          128256    \n",
            "                                                                 \n",
            " global_max_pooling1d_1 (Gl  (None, 256)               0         \n",
            " obalMaxPooling1D)                                               \n",
            "                                                                 \n",
            " dense_2 (Dense)             (None, 128)               32896     \n",
            "                                                                 \n",
            " dropout_1 (Dropout)         (None, 128)               0         \n",
            "                                                                 \n",
            " dense_3 (Dense)             (None, 1)                 129       \n",
            "                                                                 \n",
            "=================================================================\n",
            "Total params: 2161281 (8.24 MB)\n",
            "Trainable params: 2161281 (8.24 MB)\n",
            "Non-trainable params: 0 (0.00 Byte)\n",
            "_________________________________________________________________\n",
            "Epoch 1/10\n",
            "2684/2684 [==============================] - 912s 339ms/step - loss: 0.0368 - accuracy: 0.9853 - val_loss: 0.0029 - val_accuracy: 0.9990\n",
            "Epoch 2/10\n",
            "2684/2684 [==============================] - 877s 327ms/step - loss: 0.0028 - accuracy: 0.9991 - val_loss: 0.0039 - val_accuracy: 0.9987\n",
            "Epoch 3/10\n",
            "2684/2684 [==============================] - 906s 338ms/step - loss: 0.0023 - accuracy: 0.9994 - val_loss: 0.0028 - val_accuracy: 0.9994\n",
            "Epoch 4/10\n",
            "2684/2684 [==============================] - 908s 338ms/step - loss: 0.0014 - accuracy: 0.9996 - val_loss: 0.0024 - val_accuracy: 0.9996\n",
            "Epoch 5/10\n",
            "2684/2684 [==============================] - 876s 327ms/step - loss: 0.0016 - accuracy: 0.9996 - val_loss: 0.0118 - val_accuracy: 0.9976\n",
            "Epoch 6/10\n",
            "2684/2684 [==============================] - 904s 337ms/step - loss: 0.0010 - accuracy: 0.9997 - val_loss: 0.0065 - val_accuracy: 0.9986\n",
            "Epoch 7/10\n",
            "2684/2684 [==============================] - 906s 337ms/step - loss: 0.0014 - accuracy: 0.9997 - val_loss: 0.0063 - val_accuracy: 0.9988\n",
            "Epoch 8/10\n",
            "2684/2684 [==============================] - 908s 338ms/step - loss: 5.6421e-04 - accuracy: 0.9999 - val_loss: 0.0082 - val_accuracy: 0.9988\n",
            "Epoch 9/10\n",
            "2684/2684 [==============================] - 908s 338ms/step - loss: 0.0018 - accuracy: 0.9998 - val_loss: 0.0051 - val_accuracy: 0.9990\n",
            "Epoch 10/10\n",
            "2684/2684 [==============================] - 878s 327ms/step - loss: 8.9033e-05 - accuracy: 1.0000 - val_loss: 0.0052 - val_accuracy: 0.9994\n",
            "4194/4194 [==============================] - 357s 85ms/step\n",
            "Test Accuracy: 0.9998\n",
            "Test Precision: 0.9998\n",
            "Test Recall: 0.9998\n"
          ]
        }
      ]
    },
    {
      "cell_type": "code",
      "source": [
        "\n",
        "\n",
        "import matplotlib.pyplot as plt\n",
        "\n",
        "# Test metrics\n",
        "metrics = ['Accuracy', 'Precision', 'Recall']\n",
        "values = [0.9998, 0.9998, 0.9998]\n",
        "\n",
        "# Plotting the bar graph\n",
        "plt.figure(figsize=(8, 6))\n",
        "plt.bar(metrics, values, color=['blue', 'orange', 'green'])\n",
        "plt.ylim(0, 1)  # Set the y-axis limit from 0 to 1\n",
        "plt.xlabel('Metrics')\n",
        "plt.ylabel('Values')\n",
        "plt.title('Test Accuracy, Precision, and Recall')\n",
        "plt.grid(axis='y')\n",
        "plt.show()\n",
        "\n"
      ],
      "metadata": {
        "colab": {
          "base_uri": "https://localhost:8080/",
          "height": 564
        },
        "id": "lxqXlFr0eANw",
        "outputId": "e23a14b6-d704-463c-d933-c0f29e5314c6"
      },
      "execution_count": null,
      "outputs": [
        {
          "output_type": "display_data",
          "data": {
            "text/plain": [
              "<Figure size 800x600 with 1 Axes>"
            ],
            "image/png": "[encoded data removed]"
          },
          "metadata": {}
        }
      ]
    }
  ]
}