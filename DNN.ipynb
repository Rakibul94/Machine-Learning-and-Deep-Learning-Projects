{
  "nbformat": 4,
  "nbformat_minor": 0,
  "metadata": {
    "colab": {
      "provenance": []
    },
    "kernelspec": {
      "name": "python3",
      "display_name": "Python 3"
    },
    "language_info": {
      "name": "python"
    }
  },
  "cells": [
    {
      "cell_type": "code",
      "execution_count": null,
      "metadata": {
        "colab": {
          "base_uri": "https://localhost:8080/"
        },
        "id": "67KA3KqYG0eZ",
        "outputId": "2551f158-dc2a-45b8-b411-257caccac9f2"
      },
      "outputs": [
        {
          "output_type": "stream",
          "name": "stdout",
          "text": [
            "Epoch 1/10\n",
            "1678/1678 - 1194s - loss: 0.0680 - accuracy: 0.9767 - val_loss: 0.0049 - val_accuracy: 0.9993 - 1194s/epoch - 711ms/step\n",
            "Epoch 2/10\n",
            "1678/1678 - 1188s - loss: 0.1081 - accuracy: 0.9645 - val_loss: 0.0369 - val_accuracy: 0.9940 - 1188s/epoch - 708ms/step\n",
            "Epoch 3/10\n",
            "1678/1678 - 1182s - loss: 0.0201 - accuracy: 0.9968 - val_loss: 0.0253 - val_accuracy: 0.9955 - 1182s/epoch - 705ms/step\n",
            "Epoch 4/10\n",
            "1678/1678 - 1188s - loss: 0.0075 - accuracy: 0.9986 - val_loss: 0.0200 - val_accuracy: 0.9977 - 1188s/epoch - 708ms/step\n",
            "Epoch 5/10\n",
            "1678/1678 - 1186s - loss: 0.0063 - accuracy: 0.9990 - val_loss: 0.0028 - val_accuracy: 0.9996 - 1186s/epoch - 707ms/step\n",
            "Epoch 6/10\n",
            "1678/1678 - 1173s - loss: 0.0098 - accuracy: 0.9986 - val_loss: 0.0066 - val_accuracy: 0.9985 - 1173s/epoch - 699ms/step\n",
            "Epoch 7/10\n",
            "1678/1678 - 1174s - loss: 0.0020 - accuracy: 0.9996 - val_loss: 0.0020 - val_accuracy: 0.9997 - 1174s/epoch - 700ms/step\n",
            "Epoch 8/10\n",
            "1678/1678 - 1180s - loss: 0.0017 - accuracy: 0.9997 - val_loss: 0.0026 - val_accuracy: 0.9997 - 1180s/epoch - 703ms/step\n",
            "Epoch 9/10\n",
            "1678/1678 - 1207s - loss: 9.3041e-04 - accuracy: 0.9998 - val_loss: 0.0017 - val_accuracy: 0.9997 - 1207s/epoch - 719ms/step\n",
            "Epoch 10/10\n",
            "1678/1678 - 1181s - loss: 4.7853e-04 - accuracy: 0.9999 - val_loss: 0.0018 - val_accuracy: 0.9998 - 1181s/epoch - 704ms/step\n",
            "839/839 [==============================] - 67s 80ms/step\n",
            "Test Accuracy: 0.9997764530551416\n",
            "Test Precision: 0.9997820401046208\n",
            "Test Recall: 0.9997820401046208\n"
          ]
        }
      ],
      "source": [
        "import pandas as pd\n",
        "from sklearn.model_selection import train_test_split\n",
        "from sklearn.metrics import accuracy_score, precision_score, recall_score\n",
        "from tensorflow.keras.preprocessing.text import Tokenizer\n",
        "from tensorflow.keras.preprocessing.sequence import pad_sequences\n",
        "from tensorflow.keras.models import Sequential\n",
        "from tensorflow.keras.layers import Embedding, Dense, LSTM, SpatialDropout1D\n",
        "\n",
        "# Load the dataset\n",
        "file_path = '/content/Truth_Seeker_Model_Dataset.csv'\n",
        "dataset = pd.read_csv(file_path)\n",
        "\n",
        "# Preprocess the text data\n",
        "statements = dataset['statement'].astype(str).values\n",
        "tweets = dataset['tweet'].astype(str).values\n",
        "labels = dataset['BinaryNumTarget'].astype(int).values\n",
        "\n",
        "# Combine statements and tweets into one feature\n",
        "combined_text = [s + \" \" + t for s, t in zip(statements, tweets)]\n",
        "\n",
        "# Tokenize the text data\n",
        "max_num_words = 5000\n",
        "max_sequence_length = 250\n",
        "\n",
        "tokenizer = Tokenizer(num_words=max_num_words, oov_token=\"<OOV>\")\n",
        "tokenizer.fit_on_texts(combined_text)\n",
        "sequences = tokenizer.texts_to_sequences(combined_text)\n",
        "word_index = tokenizer.word_index\n",
        "\n",
        "# Pad sequences\n",
        "padded_sequences = pad_sequences(sequences, maxlen=max_sequence_length)\n",
        "\n",
        "# Split the data into training and testing sets\n",
        "X_train, X_test, y_train, y_test = train_test_split(padded_sequences, labels, test_size=0.2, random_state=42)\n",
        "\n",
        "# Build and compile the DNN model\n",
        "embedding_dim = 100\n",
        "\n",
        "model = Sequential()\n",
        "model.add(Embedding(input_dim=max_num_words, output_dim=embedding_dim, input_length=max_sequence_length))\n",
        "model.add(SpatialDropout1D(0.2))\n",
        "model.add(LSTM(100, dropout=0.2, recurrent_dropout=0.2))\n",
        "model.add(Dense(1, activation='sigmoid'))\n",
        "\n",
        "model.compile(loss='binary_crossentropy', optimizer='adam', metrics=['accuracy'])\n",
        "\n",
        "# Train the model\n",
        "batch_size = 64\n",
        "epochs = 10\n",
        "\n",
        "history = model.fit(X_train, y_train, epochs=epochs, batch_size=batch_size, validation_data=(X_test, y_test), verbose=2)\n",
        "\n",
        "# Predict on the test set\n",
        "y_pred_prob = model.predict(X_test)\n",
        "y_pred = (y_pred_prob > 0.5).astype(int)\n",
        "\n",
        "# Calculate accuracy, precision, and recall\n",
        "accuracy = accuracy_score(y_test, y_pred)\n",
        "precision = precision_score(y_test, y_pred)\n",
        "recall = recall_score(y_test, y_pred)\n",
        "\n",
        "print(f\"Test Accuracy: {accuracy}\")\n",
        "print(f\"Test Precision: {precision}\")\n",
        "print(f\"Test Recall: {recall}\")\n"
      ]
    }
  ]
}